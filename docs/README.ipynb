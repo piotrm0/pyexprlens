{
 "cells": [
  {
   "cell_type": "markdown",
   "metadata": {},
   "source": [
    "# Python Expression Lenses\n",
    "\n",
    "Python expressions to/from lenses. This library focuses on constructing lenses\n",
    "from python expressions, targeting function bindings as the primary container to\n",
    "get/set from/to. Such lenses can be serialized into strings which are valid python expressions (and thus can be deserialized using the python expression parser).\n",
    "\n",
    "## Alternatives\n",
    "\n",
    "This package has very specific goals which are not considerations in the theory of lenses. Consider these alternatives for more general lens usage:\n",
    "\n",
    "- [lenses](https://python-lenses.readthedocs.io/en/latest/tutorial/intro.html) -\n",
    "  more general and feature rich lenses implementation based on lenses in\n",
    "  Haskell.\n",
    "- [pylens](https://pythonhosted.org/pylens/) - simpler\n",
    "- [simplelens](https://pypi.org/project/simplelens/) - unknown functionality"
   ]
  },
  {
   "cell_type": "markdown",
   "metadata": {},
   "source": [
    "## Basic usage"
   ]
  },
  {
   "cell_type": "code",
   "execution_count": null,
   "metadata": {},
   "outputs": [],
   "source": [
    "# Basic identity lens can be imported as \"_\", \"arg\", or \"ident\":\n",
    "from exprlens import _\n",
    "\n",
    "# Lenses implement call:\n",
    "assert _(42) == 42\n",
    "\n",
    "assert (_+1)(1) == 2\n",
    "\n",
    "assert (_[0]+_[1])([1,2]) == 3\n",
    "\n",
    "# Lenses can alternatives to lambdas:\n",
    "assert list(map(_+1, [1,2,3])) == [2,3,4]"
   ]
  },
  {
   "cell_type": "markdown",
   "metadata": {},
   "source": [
    "## Get and set"
   ]
  },
  {
   "cell_type": "code",
   "execution_count": null,
   "metadata": {},
   "outputs": [],
   "source": [
    "# Lens for getting the first item in the first argument from a call:\n",
    "first = _[0]\n",
    "\n",
    "# Getter can be accessed using the `get` method or by calling (`__call__`):\n",
    "assert first.get([0, 1, 2, 3]) == first([0, 1, 2, 3]) == 0\n",
    "\n",
    "# Setter can be accessed using the `set` method.\n",
    "assert first.set([0, 1, 2, 3], val=42) == [42, 1, 2, 3]"
   ]
  },
  {
   "cell_type": "markdown",
   "metadata": {},
   "source": [
    "## Predefined basic lenses"
   ]
  },
  {
   "cell_type": "code",
   "execution_count": null,
   "metadata": {},
   "outputs": [],
   "source": [
    "from exprlens import (\n",
    "    arg,\n",
    "    kwargs,\n",
    "    _,\n",
    "    args,\n",
    "    argskwargs,\n",
    "    ArgsKwargs,\n",
    "    ident,\n",
    "    lens,\n",
    "    arguments,\n",
    "    all,\n",
    ")\n",
    "\n",
    "# All positional arguments:\n",
    "assert args.get(42) == (42,)\n",
    "\n",
    "# All keyword arguments:\n",
    "assert kwargs.get(hello=\"there\") == {\"hello\": \"there\"}\n",
    "\n",
    "# All arguments, stored as `ArgsKwargs` object:\n",
    "assert argskwargs.get(42, hello=\"there\") == ArgsKwargs(\n",
    "    args=(42,), kwargs={\"hello\": \"there\"}\n",
    ")\n",
    "\n",
    "# argskwargs, arguments, and all are aliases with different representations:\n",
    "assert type(argskwargs) is type(arguments) is type(all)\n",
    "\n",
    "# Only positional or keyword argument:\n",
    "assert arg.get(42) == 42\n",
    "assert arg.get(hello=\"there\") == \"there\"\n",
    "# arg.get(1,2) # error if more than one argument is given\n",
    "\n",
    "# lens, arg, ident, and \"_\" are aliases with different representations:\n",
    "assert type(arg) is type(ident) is type(lens) is type(_)"
   ]
  },
  {
   "cell_type": "markdown",
   "metadata": {},
   "source": [
    "## Lense iterators"
   ]
  },
  {
   "cell_type": "code",
   "execution_count": null,
   "metadata": {},
   "outputs": [],
   "source": [
    "from exprlens.valid import (\n",
    "    ValidDict,\n",
    "    ValidMapping,\n",
    "    ValidTuple,\n",
    "    ValidList,\n",
    "    ValidSequence,\n",
    "    ValidJSON,\n",
    ")\n",
    "\n",
    "seq = [1, 2, 3, 4]\n",
    "# Lenses for each element in a sequence:\n",
    "value_lenses = list(ValidSequence.elements(seq))\n",
    "assert value_lenses[0].get(seq) == 1\n",
    "assert value_lenses[1].get(seq) == 2\n",
    "assert value_lenses[2].get(seq) == 3\n",
    "\n",
    "# Elements can be set:\n",
    "# Set the value at index 1 to 42:\n",
    "assert value_lenses[1].set(seq, val=42) == [1, 42, 3, 4]\n",
    "\n",
    "# Indices in a sequence:\n",
    "seq = [1, 2, 3, 4]\n",
    "index_lenses = list(ValidSequence.indices(seq))\n",
    "assert index_lenses[0].get(seq) == 0\n",
    "assert index_lenses[1].get(seq) == 1\n",
    "assert index_lenses[2].get(seq) == 2\n",
    "\n",
    "# Indices can be set:\n",
    "# Index of element 1 to 3 thus copying the value at index 1 to index 3:\n",
    "# Items at old index is spliced out.\n",
    "assert index_lenses[1].set(seq, val=3) == [1, 3, 2]\n",
    "\n",
    "# Values in a mapping:\n",
    "mapping = {\"a\": 1, \"b\": 2}\n",
    "value_lenses = list(ValidMapping.values(mapping))\n",
    "assert value_lenses[0].get(mapping) == 1\n",
    "assert value_lenses[1].get(mapping) == 2\n",
    "\n",
    "# Values can be set:\n",
    "# Set the value of key 'a' to 42:\n",
    "assert value_lenses[0].set(mapping, val=42) == {\"a\": 42, \"b\": 2}\n",
    "\n",
    "# Keys in a mapping:\n",
    "key_lenses = list(ValidMapping.keys(mapping))\n",
    "assert key_lenses[0].get(mapping) == \"a\"\n",
    "assert key_lenses[1].get(mapping) == \"b\"\n",
    "\n",
    "# Keys can be set:\n",
    "# Key 'a' to 'c' thus renaming the key:\n",
    "assert key_lenses[0].set(mapping, val=\"c\") == {\"c\": 42, \"b\": 2}\n",
    "\n",
    "# JSON-like objects:\n",
    "obj = {\"baseint\": 1, \"seqofints\": [1, 2, 3], \"seqofstrs\": [\"a\", \"b\", \"c\"]}\n",
    "\n",
    "# Get all lenses to JSON values including sequences and dictionaries:\n",
    "for l in ValidJSON.all_values(obj):\n",
    "    print(l, l.get(obj))\n",
    "\n",
    "# Get lenses only to base JSON values (int, str, bool, None):\n",
    "for l in ValidJSON.base_values(obj):\n",
    "    print(l, l.get(obj))\n",
    "\n",
    "# Get lenses only to values of the specified type, here int:\n",
    "for l in ValidJSON.of_type(obj, int):\n",
    "    print(l, l.get(obj))"
   ]
  },
  {
   "cell_type": "markdown",
   "metadata": {},
   "source": [
    "## Expressions"
   ]
  },
  {
   "cell_type": "code",
   "execution_count": null,
   "metadata": {},
   "outputs": [],
   "source": [
    "from exprlens import arg\n",
    "\n",
    "# Lens that first grabs the first two items in the first argument and adds them:\n",
    "plusfirsts = arg[0] + arg[1]\n",
    "\n",
    "# Note that once expression lenses are constructed, `set` can no longer be used on them.\n",
    "# plusfirsts.set([1, 2, 3, 4], val=42)  # Raises an exception.\n",
    "\n",
    "assert plusfirsts([1, 2, 3, 4]) == 3\n",
    "\n",
    "# Literals/constants: Expression lenses can involve literals/constants.\n",
    "plusone = arg + 1\n",
    "assert list(map(plusone, [1, 2, 3])) == [2, 3, 4]"
   ]
  },
  {
   "cell_type": "markdown",
   "metadata": {},
   "source": [
    "## Validation"
   ]
  },
  {
   "cell_type": "code",
   "execution_count": null,
   "metadata": {},
   "outputs": [],
   "source": [
    "from exprlens import args, kwargs\n",
    "\n",
    "# Lenses can be validate on construction:\n",
    "args[0]  # ok\n",
    "# args[\"something\"] # error\n",
    "\n",
    "kwargs[\"something\"]  # ok\n",
    "# kwargs[0] # error\n",
    "\n",
    "# Lenses can be validated on use:\n",
    "\n",
    "# Lens that gets a key from the first argument, thus the first argument must be a mapping:\n",
    "firstkey = arg[\"something\"]\n",
    "firstkey.get({\"something\": 42})  # ok\n",
    "\n",
    "# Will fail if the first argument is not a mapping:\n",
    "# firstkey.get([1,2,3]) # error"
   ]
  },
  {
   "cell_type": "markdown",
   "metadata": {},
   "source": [
    "## Boolean expressions\n",
    "\n",
    "Python does not allow overriding boolean operators (`and`, `or`, `not`) (see\n",
    "relevant [rejected PEP](https://peps.python.org/pep-0335/)) so lenses\n",
    "corresponding to expressions with boolean operators cannot be created by writing\n",
    "python directly, i.e. `lens[0] and lens[1]`. Instead you can make use of\n",
    "`Lens.conjunction`, `Lens.disjunction`, and `Lens.negation` static methods to\n",
    "construct these. Alternatively you can use `Lens.of_string` static method\n",
    "to construct it from python code, e.g. `Lens.of_string(\"lens[0] and\n",
    "lens[1]\")`.\n"
   ]
  },
  {
   "cell_type": "code",
   "execution_count": null,
   "metadata": {},
   "outputs": [],
   "source": [
    "from exprlens import Lens, lens\n",
    "\n",
    "# Conjunction:\n",
    "both = Lens.of_string(\"lens[0] and lens[1]\")\n",
    "\n",
    "assert Lens.conjunction(lens[0], lens[1]) == both\n",
    "\n",
    "assert both([1, 2, 3, 4]) == 2\n",
    "\n",
    "# Disjunction:\n",
    "either = Lens.of_string(\"lens[0] or lens[1]\")\n",
    "\n",
    "assert Lens.disjunction(lens[0], lens[1]) == either\n",
    "\n",
    "assert either([1, 2, 3, 4]) == 1\n",
    "\n",
    "# Logical negation:\n",
    "not_second = Lens.of_string(\"not lens[1]\")\n",
    "\n",
    "assert Lens.negation(lens[1]) == not_second\n",
    "\n",
    "assert not_second([1, 2, 3, 4]) == False"
   ]
  },
  {
   "cell_type": "markdown",
   "metadata": {},
   "source": [
    "## Serialization"
   ]
  },
  {
   "cell_type": "code",
   "execution_count": null,
   "metadata": {},
   "outputs": [],
   "source": [
    "from exprlens import Lens, arg\n",
    "from ast import parse, dump\n",
    "\n",
    "plusone = arg + 1\n",
    "assert repr(plusone) == \"(arg + 1)\"\n",
    "\n",
    "assert dump(plusone.pyast) == dump(parse(str(plusone), mode=\"eval\"))\n",
    "assert plusone == Lens.of_string(str(plusone))"
   ]
  }
 ],
 "metadata": {
  "kernelspec": {
   "display_name": "exprlens-l1a8MNw6-py3.11",
   "language": "python",
   "name": "python3"
  },
  "language_info": {
   "codemirror_mode": {
    "name": "ipython",
    "version": 3
   },
   "file_extension": ".py",
   "mimetype": "text/x-python",
   "name": "python",
   "nbconvert_exporter": "python",
   "pygments_lexer": "ipython3",
   "version": "3.11.9"
  }
 },
 "nbformat": 4,
 "nbformat_minor": 2
}

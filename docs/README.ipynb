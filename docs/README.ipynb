{
 "cells": [
  {
   "cell_type": "markdown",
   "metadata": {},
   "source": [
    "# Python Expression Lenses\n",
    "\n",
    "Python expressions to/from lenses. This library focuses on constructing lenses\n",
    "from python expressions, targeting function bindings as the primary container to\n",
    "get/set from/to. Such lenses can be serialized into strings which are valid python expressions (and thus can be deserialized using the python expression parser).\n",
    "\n",
    "## Alternatives\n",
    "\n",
    "This package has very specific goals which are not considerations in the theory of lenses. Consider these alternatives for more general lens usage:\n",
    "\n",
    "- [lenses](https://python-lenses.readthedocs.io/en/latest/tutorial/intro.html) -\n",
    "  more general and feature rich lenses implementation based on lenses in\n",
    "  Haskell.\n",
    "- [pylens](https://pythonhosted.org/pylens/) - simpler\n",
    "- [simplelens](https://pypi.org/project/simplelens/) - unknown functionality"
   ]
  },
  {
   "cell_type": "markdown",
   "metadata": {},
   "source": [
    "## Basic usage"
   ]
  },
  {
   "cell_type": "code",
   "execution_count": null,
   "metadata": {},
   "outputs": [],
   "source": [
    "from exprlens import arg\n",
    "\n",
    "# Lens for getting the first item in the first argument from a call:\n",
    "first = arg[0]  \n",
    "\n",
    "# Getter can be accessed using the `get` method or by calling (`__call__`):\n",
    "assert first.get([0, 1, 2, 3]) == first([0, 1, 2, 3]) == 0\n",
    "\n",
    "# Setter can be accessed using the `set` method.\n",
    "assert first.set([0, 1, 2, 3], val=42) == [42, 1, 2, 3]"
   ]
  },
  {
   "cell_type": "markdown",
   "metadata": {},
   "source": [
    "## Expressions"
   ]
  },
  {
   "cell_type": "code",
   "execution_count": null,
   "metadata": {},
   "outputs": [],
   "source": [
    "from exprlens import arg\n",
    "\n",
    "# Lens that first grabs the first two items in the first argument and adds them:\n",
    "plusfirsts = arg[0] + arg[1]  \n",
    "\n",
    "# Note that once expression lenses are constructed, `set` can no longer be used on them.\n",
    "# plusfirsts.set([1, 2, 3, 4], val=42)  # Raises an exception.\n",
    "\n",
    "assert plusfirsts([1, 2, 3, 4]) == 3\n",
    "\n",
    "# Literals/constants: Expression lenses can involve literals/constants.\n",
    "plusone = arg + 1\n",
    "assert list(map(plusone, [1, 2, 3])) == [2, 3, 4]"
   ]
  },
  {
   "cell_type": "markdown",
   "metadata": {},
   "source": [
    "## Validation"
   ]
  },
  {
   "cell_type": "code",
   "execution_count": null,
   "metadata": {},
   "outputs": [],
   "source": [
    "from exprlens import args, kwargs\n",
    "\n",
    "# Lenses can be validate on construction:\n",
    "args[0] # ok\n",
    "# args[\"something\"] # error\n",
    "\n",
    "kwargs[\"something\"] # ok\n",
    "# kwargs[0] # error\n",
    "\n",
    "# Lenses can be validated on use:\n",
    "\n",
    "# Lens that gets a key from the first argument, thus the first argument must be a mapping:\n",
    "firstkey = arg[\"something\"]\n",
    "firstkey.get({\"something\": 42}) # ok\n",
    "\n",
    "# Will fail if the first argument is not a mapping:\n",
    "# firstkey.get([1,2,3]) # error"
   ]
  },
  {
   "cell_type": "markdown",
   "metadata": {},
   "source": [
    "## Boolean expressions (TODO)\n",
    "\n",
    "Python does not allow overriding boolean operators (`and`, `or`, `not`) (see\n",
    "relevant [rejected PEP](https://peps.python.org/pep-0335/)) so lenses\n",
    "corresponding to expressions with boolean operators cannot be created by writing\n",
    "python directly, i.e. `lens[0] and lens[1]`. Instead you can make use of\n",
    "`Expr.conjunction`, `Expr.disjunction`, and `Expr.negation` static methods to\n",
    "construct these. Alternatively you can use `Expr.of_string` static method\n",
    "to construct it from python code, e.g. `Expr.of_string(\"lens[0] and\n",
    "lens[1]\")`.\n"
   ]
  },
  {
   "cell_type": "code",
   "execution_count": null,
   "metadata": {},
   "outputs": [],
   "source": [
    "from exprlens import Expr, lens\n",
    "\n",
    "assert Expr.conjunction(lens[0], lens[1]) == Expr.of_string(\"lens[0] and lens[1]\")"
   ]
  },
  {
   "cell_type": "markdown",
   "metadata": {},
   "source": [
    "## Serialization (TODO)"
   ]
  },
  {
   "cell_type": "code",
   "execution_count": null,
   "metadata": {},
   "outputs": [],
   "source": [
    "from exprlens import Expr\n",
    "from ast import parse\n",
    "\n",
    "assert repr(plusone) == \"(args[0] + 1)\"\n",
    "\n",
    "assert plusone.pyast == parse(repr(plusone), mode=\"eval\")\n",
    "assert plusone == Expr.of_string(repr(plusone))"
   ]
  }
 ],
 "metadata": {
  "kernelspec": {
   "display_name": "py38_trulens",
   "language": "python",
   "name": "python3"
  },
  "language_info": {
   "codemirror_mode": {
    "name": "ipython",
    "version": 3
   },
   "file_extension": ".py",
   "mimetype": "text/x-python",
   "name": "python",
   "nbconvert_exporter": "python",
   "pygments_lexer": "ipython3",
   "version": "3.11.9"
  }
 },
 "nbformat": 4,
 "nbformat_minor": 2
}
